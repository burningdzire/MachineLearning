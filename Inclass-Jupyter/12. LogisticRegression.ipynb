{
 "cells": [
  {
   "cell_type": "code",
   "execution_count": 1,
   "metadata": {
    "collapsed": true
   },
   "outputs": [],
   "source": [
    "#importing libraries\n",
    "import pandas as pd\n",
    "import numpy as np\n",
    "import seaborn as sns\n",
    "import matplotlib.pyplot as plt\n",
    "%matplotlib inline"
   ]
  },
  {
   "cell_type": "code",
   "execution_count": 2,
   "metadata": {
    "collapsed": true
   },
   "outputs": [],
   "source": [
    "from sklearn.datasets import load_digits\n",
    "dg = load_digits()"
   ]
  },
  {
   "cell_type": "code",
   "execution_count": 3,
   "metadata": {},
   "outputs": [
    {
     "name": "stdout",
     "output_type": "stream",
     "text": [
      "(1797, 64)\n",
      "(1797,)\n"
     ]
    }
   ],
   "source": [
    "#Getting to know your data\n",
    "print(dg.data.shape)\n",
    "print(dg.target.shape)"
   ]
  },
  {
   "cell_type": "code",
   "execution_count": 5,
   "metadata": {},
   "outputs": [
    {
     "data": {
      "image/png": "[encoded data removed]",
      "text/plain": [
       "<matplotlib.figure.Figure at 0x2aa7a5ab5c0>"
      ]
     },
     "metadata": {},
     "output_type": "display_data"
    }
   ],
   "source": [
    "plt.figure(figsize = (20, 4))\n",
    "for index, (image, label) in enumerate(zip(dg.data[0:5], dg.target[0:5])):\n",
    "    plt.subplot(1, 5, index+1)\n",
    "    plt.imshow(np.reshape(image, (8, 8)), cmap = plt.cm.gray)"
   ]
  },
  {
   "cell_type": "code",
   "execution_count": 8,
   "metadata": {
    "collapsed": true
   },
   "outputs": [],
   "source": [
    "#Splitting the model\n",
    "from sklearn.model_selection import train_test_split\n",
    "train_x, test_x, train_y, test_y = train_test_split(dg.data, dg.target, test_size = 0.2, random_state = 0)"
   ]
  },
  {
   "cell_type": "code",
   "execution_count": 9,
   "metadata": {},
   "outputs": [
    {
     "data": {
      "text/plain": [
       "LogisticRegression(C=1.0, class_weight=None, dual=False, fit_intercept=True,\n",
       "          intercept_scaling=1, max_iter=100, multi_class='ovr', n_jobs=1,\n",
       "          penalty='l2', random_state=None, solver='liblinear', tol=0.0001,\n",
       "          verbose=0, warm_start=False)"
      ]
     },
     "execution_count": 9,
     "metadata": {},
     "output_type": "execute_result"
    }
   ],
   "source": [
    "from sklearn.linear_model import LogisticRegression\n",
    "lr = LogisticRegression()\n",
    "lr.fit(train_x, train_y)"
   ]
  },
  {
   "cell_type": "code",
   "execution_count": 10,
   "metadata": {
    "collapsed": true
   },
   "outputs": [],
   "source": [
    "test_pred = lr.predict(test_x)"
   ]
  },
  {
   "cell_type": "code",
   "execution_count": 11,
   "metadata": {},
   "outputs": [
    {
     "name": "stdout",
     "output_type": "stream",
     "text": [
      "     Actual  Predicted\n",
      "0         2          2\n",
      "1         8          8\n",
      "2         2          2\n",
      "3         6          6\n",
      "4         6          6\n",
      "5         7          7\n",
      "6         1          1\n",
      "7         9          9\n",
      "8         8          8\n",
      "9         5          5\n",
      "10        2          2\n",
      "11        8          8\n",
      "12        6          6\n",
      "13        6          6\n",
      "14        6          6\n",
      "15        6          6\n",
      "16        1          1\n",
      "17        0          0\n",
      "18        5          5\n",
      "19        8          8\n",
      "20        8          8\n",
      "21        7          7\n",
      "22        8          8\n",
      "23        4          4\n",
      "24        7          7\n",
      "25        5          5\n",
      "26        4          4\n",
      "27        9          9\n",
      "28        2          2\n",
      "29        9          9\n",
      "..      ...        ...\n",
      "330       2          2\n",
      "331       1          8\n",
      "332       9          9\n",
      "333       5          5\n",
      "334       6          6\n",
      "335       8          2\n",
      "336       2          2\n",
      "337       7          7\n",
      "338       2          2\n",
      "339       1          1\n",
      "340       5          5\n",
      "341       1          1\n",
      "342       6          6\n",
      "343       4          4\n",
      "344       5          5\n",
      "345       0          0\n",
      "346       9          9\n",
      "347       4          4\n",
      "348       1          1\n",
      "349       1          1\n",
      "350       7          7\n",
      "351       0          0\n",
      "352       8          8\n",
      "353       9          9\n",
      "354       0          0\n",
      "355       5          5\n",
      "356       4          4\n",
      "357       3          3\n",
      "358       8          8\n",
      "359       8          8\n",
      "\n",
      "[360 rows x 2 columns]\n"
     ]
    }
   ],
   "source": [
    "result = pd.DataFrame({'Actual':test_y, 'Predicted': test_pred})\n",
    "print(result)"
   ]
  },
  {
   "cell_type": "code",
   "execution_count": 16,
   "metadata": {},
   "outputs": [
    {
     "name": "stdout",
     "output_type": "stream",
     "text": [
      "0.845127316767\n"
     ]
    }
   ],
   "source": [
    "# from sklearn.metrics import r2_score\n",
    "# print(r2_score(test_y, test_pred))"
   ]
  },
  {
   "cell_type": "code",
   "execution_count": null,
   "metadata": {
    "collapsed": true
   },
   "outputs": [],
   "source": []
  }
 ],
 "metadata": {
  "kernelspec": {
   "display_name": "Python 3",
   "language": "python",
   "name": "python3"
  },
  "language_info": {
   "codemirror_mode": {
    "name": "ipython",
    "version": 3
   },
   "file_extension": ".py",
   "mimetype": "text/x-python",
   "name": "python",
   "nbconvert_exporter": "python",
   "pygments_lexer": "ipython3",
   "version": "3.6.2"
  }
 },
 "nbformat": 4,
 "nbformat_minor": 2
}
