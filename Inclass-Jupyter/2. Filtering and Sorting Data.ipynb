{
 "cells": [
  {
   "cell_type": "code",
   "execution_count": 34,
   "metadata": {
    "collapsed": true
   },
   "outputs": [],
   "source": [
    "#Step 1. Import the necessary libraries\n",
    "import numpy as np\n",
    "import pandas as pd"
   ]
  },
  {
   "cell_type": "code",
   "execution_count": 35,
   "metadata": {
    "collapsed": true
   },
   "outputs": [],
   "source": [
    "# Step 2. Import the dataset from this address.\n",
    "# Step 3. Assign it to a variable called df.\n",
    "url = 'https://raw.githubusercontent.com/justmarkham/DAT8/master/data/chipotle.tsv'  \n",
    "df = pd.read_csv(url, sep = '\\t')"
   ]
  },
  {
   "cell_type": "code",
   "execution_count": 36,
   "metadata": {},
   "outputs": [
    {
     "name": "stdout",
     "output_type": "stream",
     "text": [
      "   order_id  quantity                              item_name  \\\n",
      "0         1         1           Chips and Fresh Tomato Salsa   \n",
      "1         1         1                                   Izze   \n",
      "2         1         1                       Nantucket Nectar   \n",
      "3         1         1  Chips and Tomatillo-Green Chili Salsa   \n",
      "4         2         2                           Chicken Bowl   \n",
      "\n",
      "                                  choice_description  item_price  \n",
      "0                                                NaN        2.39  \n",
      "1                                       [Clementine]        3.39  \n",
      "2                                            [Apple]        3.39  \n",
      "3                                                NaN        2.39  \n",
      "4  [Tomatillo-Red Chili Salsa (Hot), [Black Beans...       16.98  \n"
     ]
    }
   ],
   "source": [
    "#Step 4. Clean the item_price column and transform it in a float\n",
    "convertFloat = lambda x: float(x[1:])\n",
    "df['item_price'] = df['item_price'].apply(convertFloat)\n",
    "\n",
    "print(df.head())"
   ]
  },
  {
   "cell_type": "code",
   "execution_count": 37,
   "metadata": {},
   "outputs": [
    {
     "name": "stdout",
     "output_type": "stream",
     "text": [
      "                                  item_name  price_per_unit\n",
      "606                        Steak Salad Bowl           11.89\n",
      "1132                    Carnitas Salad Bowl           11.89\n",
      "1229                    Barbacoa Salad Bowl           11.89\n",
      "281                        Steak Salad Bowl           11.89\n",
      "168                   Barbacoa Crispy Tacos           11.75\n",
      "39                            Barbacoa Bowl           11.75\n",
      "7                             Steak Burrito           11.75\n",
      "3480                          Carnitas Bowl           11.75\n",
      "506                           Carnitas Bowl           11.75\n",
      "135                      Chicken Salad Bowl           11.25\n",
      "62                              Veggie Bowl           11.25\n",
      "57                           Veggie Burrito           11.25\n",
      "186                       Veggie Salad Bowl           11.25\n",
      "3601                         Veggie Burrito           11.25\n",
      "738                       Veggie Soft Tacos           11.25\n",
      "250                           Chicken Salad           10.98\n",
      "5                              Chicken Bowl           10.98\n",
      "409                            Chicken Bowl           10.98\n",
      "1255                          Steak Burrito            9.25\n",
      "554                   Carnitas Crispy Tacos            9.25\n",
      "8                          Steak Soft Tacos            9.25\n",
      "237                     Carnitas Soft Tacos            9.25\n",
      "1903                  Barbacoa Crispy Tacos            9.25\n",
      "2581                       Carnitas Burrito            9.25\n",
      "56                      Barbacoa Soft Tacos            9.25\n",
      "4354                       Steak Soft Tacos            9.25\n",
      "92                       Steak Crispy Tacos            9.25\n",
      "664                             Steak Salad            8.99\n",
      "910                              Steak Bowl            8.99\n",
      "148                           Steak Burrito            8.99\n",
      "...                                     ...             ...\n",
      "111     Chips and Tomatillo Red Chili Salsa            2.95\n",
      "1555     Chips and Roasted Chili Corn Salsa            2.95\n",
      "1257           Chips and Fresh Tomato Salsa            2.95\n",
      "2656  Chips and Tomatillo-Green Chili Salsa            2.39\n",
      "3     Chips and Tomatillo-Green Chili Salsa            2.39\n",
      "2972    Chips and Tomatillo-Red Chili Salsa            2.39\n",
      "191      Chips and Roasted Chili-Corn Salsa            2.39\n",
      "0              Chips and Fresh Tomato Salsa            2.39\n",
      "300     Chips and Tomatillo-Red Chili Salsa            2.39\n",
      "2550    Chips and Tomatillo-Red Chili Salsa            2.39\n",
      "223                                   Chips            2.15\n",
      "2936                                  Chips            2.15\n",
      "40                                    Chips            2.15\n",
      "2944                          Side of Chips            1.69\n",
      "6                             Side of Chips            1.69\n",
      "3887                          Side of Chips            1.69\n",
      "540                           Bottled Water            1.50\n",
      "4152                          Bottled Water            1.50\n",
      "3599                          Bottled Water            1.50\n",
      "1425                          Bottled Water            1.50\n",
      "2441                          Bottled Water            1.50\n",
      "689                       Canned Soft Drink            1.25\n",
      "263                       Canned Soft Drink            1.25\n",
      "492                       Canned Soft Drink            1.25\n",
      "3973                      Canned Soft Drink            1.25\n",
      "28                              Canned Soda            1.09\n",
      "18                              Canned Soda            1.09\n",
      "34                            Bottled Water            1.09\n",
      "2235                            Canned Soda            1.09\n",
      "818                           Bottled Water            1.09\n",
      "\n",
      "[103 rows x 2 columns]\n"
     ]
    },
    {
     "name": "stderr",
     "output_type": "stream",
     "text": [
      "C:\\ProgramData\\Anaconda3\\lib\\site-packages\\ipykernel_launcher.py:4: SettingWithCopyWarning: \n",
      "A value is trying to be set on a copy of a slice from a DataFrame.\n",
      "Try using .loc[row_indexer,col_indexer] = value instead\n",
      "\n",
      "See the caveats in the documentation: http://pandas.pydata.org/pandas-docs/stable/indexing.html#indexing-view-versus-copy\n",
      "  after removing the cwd from sys.path.\n"
     ]
    }
   ],
   "source": [
    "#Step 5. What is the price of each item?\n",
    "#print a data frame with only two columns item_name and item_price\n",
    "df_filtered = df.drop_duplicates(['item_name', 'quantity'])\n",
    "df_filtered['price_per_unit'] = df_filtered['item_price']/df_filtered['quantity']\n",
    "catalog = df_filtered[['item_name', 'price_per_unit']]\n",
    "print(catalog.sort_values(by = \"price_per_unit\", ascending = False))"
   ]
  },
  {
   "cell_type": "code",
   "execution_count": 38,
   "metadata": {},
   "outputs": [
    {
     "data": {
      "text/plain": [
       "298         6 Pack Soft Drink\n",
       "3389        6 Pack Soft Drink\n",
       "39              Barbacoa Bowl\n",
       "21           Barbacoa Burrito\n",
       "1903    Barbacoa Crispy Tacos\n",
       "168     Barbacoa Crispy Tacos\n",
       "1229      Barbacoa Salad Bowl\n",
       "56        Barbacoa Soft Tacos\n",
       "2441            Bottled Water\n",
       "4152            Bottled Water\n",
       "818             Bottled Water\n",
       "540             Bottled Water\n",
       "1425            Bottled Water\n",
       "3599            Bottled Water\n",
       "34              Bottled Water\n",
       "445                      Bowl\n",
       "673                      Bowl\n",
       "510                   Burrito\n",
       "18                Canned Soda\n",
       "2235              Canned Soda\n",
       "28                Canned Soda\n",
       "263         Canned Soft Drink\n",
       "3973        Canned Soft Drink\n",
       "492         Canned Soft Drink\n",
       "689         Canned Soft Drink\n",
       "33              Carnitas Bowl\n",
       "3480            Carnitas Bowl\n",
       "506             Carnitas Bowl\n",
       "2581         Carnitas Burrito\n",
       "27           Carnitas Burrito\n",
       "                ...          \n",
       "520              Crispy Tacos\n",
       "1                        Izze\n",
       "2            Nantucket Nectar\n",
       "601          Nantucket Nectar\n",
       "1414                    Salad\n",
       "3887            Side of Chips\n",
       "6               Side of Chips\n",
       "2944            Side of Chips\n",
       "3334               Steak Bowl\n",
       "910                Steak Bowl\n",
       "54                 Steak Bowl\n",
       "1255            Steak Burrito\n",
       "148             Steak Burrito\n",
       "7               Steak Burrito\n",
       "92         Steak Crispy Tacos\n",
       "2874       Steak Crispy Tacos\n",
       "664               Steak Salad\n",
       "606          Steak Salad Bowl\n",
       "281          Steak Salad Bowl\n",
       "8            Steak Soft Tacos\n",
       "4354         Steak Soft Tacos\n",
       "62                Veggie Bowl\n",
       "846               Veggie Bowl\n",
       "57             Veggie Burrito\n",
       "3601           Veggie Burrito\n",
       "1653      Veggie Crispy Tacos\n",
       "1694             Veggie Salad\n",
       "186         Veggie Salad Bowl\n",
       "3889        Veggie Soft Tacos\n",
       "738         Veggie Soft Tacos\n",
       "Name: item_name, Length: 103, dtype: object"
      ]
     },
     "execution_count": 38,
     "metadata": {},
     "output_type": "execute_result"
    }
   ],
   "source": [
    "#Step 6. Sort by the name of the item\n",
    "df_filtered['item_name'].sort_values()"
   ]
  },
  {
   "cell_type": "code",
   "execution_count": 39,
   "metadata": {},
   "outputs": [
    {
     "data": {
      "text/html": [
       "<div>\n",
       "<style>\n",
       "    .dataframe thead tr:only-child th {\n",
       "        text-align: right;\n",
       "    }\n",
       "\n",
       "    .dataframe thead th {\n",
       "        text-align: left;\n",
       "    }\n",
       "\n",
       "    .dataframe tbody tr th {\n",
       "        vertical-align: top;\n",
       "    }\n",
       "</style>\n",
       "<table border=\"1\" class=\"dataframe\">\n",
       "  <thead>\n",
       "    <tr style=\"text-align: right;\">\n",
       "      <th></th>\n",
       "      <th>order_id</th>\n",
       "      <th>quantity</th>\n",
       "      <th>item_name</th>\n",
       "      <th>choice_description</th>\n",
       "      <th>item_price</th>\n",
       "      <th>price_per_unit</th>\n",
       "    </tr>\n",
       "  </thead>\n",
       "  <tbody>\n",
       "    <tr>\n",
       "      <th>606</th>\n",
       "      <td>250</td>\n",
       "      <td>1</td>\n",
       "      <td>Steak Salad Bowl</td>\n",
       "      <td>[Fresh Tomato Salsa, [Pinto Beans, Cheese, Gua...</td>\n",
       "      <td>11.89</td>\n",
       "      <td>11.89</td>\n",
       "    </tr>\n",
       "  </tbody>\n",
       "</table>\n",
       "</div>"
      ],
      "text/plain": [
       "     order_id  quantity         item_name  \\\n",
       "606       250         1  Steak Salad Bowl   \n",
       "\n",
       "                                    choice_description  item_price  \\\n",
       "606  [Fresh Tomato Salsa, [Pinto Beans, Cheese, Gua...       11.89   \n",
       "\n",
       "     price_per_unit  \n",
       "606           11.89  "
      ]
     },
     "execution_count": 39,
     "metadata": {},
     "output_type": "execute_result"
    }
   ],
   "source": [
    "#Step 7. What was the quantity of the most expensive item ordered?\n",
    "df_filtered.sort_values(by = \"price_per_unit\", ascending = False).head(1)"
   ]
  },
  {
   "cell_type": "code",
   "execution_count": 40,
   "metadata": {},
   "outputs": [
    {
     "data": {
      "text/plain": [
       "18"
      ]
     },
     "execution_count": 40,
     "metadata": {},
     "output_type": "execute_result"
    }
   ],
   "source": [
    "#Step 8. How many times were a Veggie Salad Bowl ordered?\n",
    "veggie_salad = df[df['item_name'] == \"Veggie Salad Bowl\"]\n",
    "len(veggie_salad)"
   ]
  },
  {
   "cell_type": "code",
   "execution_count": 33,
   "metadata": {},
   "outputs": [
    {
     "name": "stdout",
     "output_type": "stream",
     "text": [
      "20\n"
     ]
    }
   ],
   "source": [
    "#Step 9. How many times people orderd more than one Canned Soda?\n",
    "CannedSoda = df[(df['item_name'] == \"Canned Soda\") & (df['quantity'] > 1)]\n",
    "print(len(CannedSoda))"
   ]
  },
  {
   "cell_type": "code",
   "execution_count": null,
   "metadata": {
    "collapsed": true
   },
   "outputs": [],
   "source": []
  }
 ],
 "metadata": {
  "kernelspec": {
   "display_name": "Python 3",
   "language": "python",
   "name": "python3"
  },
  "language_info": {
   "codemirror_mode": {
    "name": "ipython",
    "version": 3
   },
   "file_extension": ".py",
   "mimetype": "text/x-python",
   "name": "python",
   "nbconvert_exporter": "python",
   "pygments_lexer": "ipython3",
   "version": "3.6.2"
  }
 },
 "nbformat": 4,
 "nbformat_minor": 2
}
