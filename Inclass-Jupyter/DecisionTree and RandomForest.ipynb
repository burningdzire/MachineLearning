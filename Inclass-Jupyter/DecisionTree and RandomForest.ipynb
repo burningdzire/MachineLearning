{
 "cells": [
  {
   "cell_type": "code",
   "execution_count": 1,
   "metadata": {
    "collapsed": true
   },
   "outputs": [],
   "source": [
    "#Importing libraries\n",
    "import pandas as pd\n",
    "import numpy as np\n",
    "import seaborn as sns\n",
    "import matplotlib.pyplot as plt\n",
    "%matplotlib inline"
   ]
  },
  {
   "cell_type": "code",
   "execution_count": 2,
   "metadata": {},
   "outputs": [
    {
     "data": {
      "text/html": [
       "<div>\n",
       "<style>\n",
       "    .dataframe thead tr:only-child th {\n",
       "        text-align: right;\n",
       "    }\n",
       "\n",
       "    .dataframe thead th {\n",
       "        text-align: left;\n",
       "    }\n",
       "\n",
       "    .dataframe tbody tr th {\n",
       "        vertical-align: top;\n",
       "    }\n",
       "</style>\n",
       "<table border=\"1\" class=\"dataframe\">\n",
       "  <thead>\n",
       "    <tr style=\"text-align: right;\">\n",
       "      <th></th>\n",
       "      <th>Variance</th>\n",
       "      <th>Skewness</th>\n",
       "      <th>Curtosis</th>\n",
       "      <th>Entropy</th>\n",
       "      <th>Class</th>\n",
       "    </tr>\n",
       "  </thead>\n",
       "  <tbody>\n",
       "    <tr>\n",
       "      <th>0</th>\n",
       "      <td>3.62160</td>\n",
       "      <td>8.6661</td>\n",
       "      <td>-2.8073</td>\n",
       "      <td>-0.44699</td>\n",
       "      <td>0</td>\n",
       "    </tr>\n",
       "    <tr>\n",
       "      <th>1</th>\n",
       "      <td>4.54590</td>\n",
       "      <td>8.1674</td>\n",
       "      <td>-2.4586</td>\n",
       "      <td>-1.46210</td>\n",
       "      <td>0</td>\n",
       "    </tr>\n",
       "    <tr>\n",
       "      <th>2</th>\n",
       "      <td>3.86600</td>\n",
       "      <td>-2.6383</td>\n",
       "      <td>1.9242</td>\n",
       "      <td>0.10645</td>\n",
       "      <td>0</td>\n",
       "    </tr>\n",
       "    <tr>\n",
       "      <th>3</th>\n",
       "      <td>3.45660</td>\n",
       "      <td>9.5228</td>\n",
       "      <td>-4.0112</td>\n",
       "      <td>-3.59440</td>\n",
       "      <td>0</td>\n",
       "    </tr>\n",
       "    <tr>\n",
       "      <th>4</th>\n",
       "      <td>0.32924</td>\n",
       "      <td>-4.4552</td>\n",
       "      <td>4.5718</td>\n",
       "      <td>-0.98880</td>\n",
       "      <td>0</td>\n",
       "    </tr>\n",
       "  </tbody>\n",
       "</table>\n",
       "</div>"
      ],
      "text/plain": [
       "   Variance  Skewness  Curtosis  Entropy  Class\n",
       "0   3.62160    8.6661   -2.8073 -0.44699      0\n",
       "1   4.54590    8.1674   -2.4586 -1.46210      0\n",
       "2   3.86600   -2.6383    1.9242  0.10645      0\n",
       "3   3.45660    9.5228   -4.0112 -3.59440      0\n",
       "4   0.32924   -4.4552    4.5718 -0.98880      0"
      ]
     },
     "execution_count": 2,
     "metadata": {},
     "output_type": "execute_result"
    }
   ],
   "source": [
    "df = pd.read_csv('bill_authentication.csv')\n",
    "df.head()"
   ]
  },
  {
   "cell_type": "code",
   "execution_count": 3,
   "metadata": {
    "collapsed": true
   },
   "outputs": [],
   "source": [
    "from sklearn.model_selection import train_test_split as tts\n",
    "train, test = tts(df, test_size = 0.2)"
   ]
  },
  {
   "cell_type": "code",
   "execution_count": 4,
   "metadata": {
    "collapsed": true
   },
   "outputs": [],
   "source": [
    "train_x = train.loc[:, train.columns != 'Class']\n",
    "test_x = test.loc[:, test.columns != 'Class']\n",
    "\n",
    "train_y = train['Class']\n",
    "test_y = test['Class']"
   ]
  },
  {
   "cell_type": "code",
   "execution_count": 5,
   "metadata": {},
   "outputs": [
    {
     "data": {
      "text/plain": [
       "DecisionTreeClassifier(class_weight=None, criterion='gini', max_depth=None,\n",
       "            max_features=None, max_leaf_nodes=None,\n",
       "            min_impurity_decrease=0.0, min_impurity_split=None,\n",
       "            min_samples_leaf=1, min_samples_split=2,\n",
       "            min_weight_fraction_leaf=0.0, presort=False, random_state=None,\n",
       "            splitter='best')"
      ]
     },
     "execution_count": 5,
     "metadata": {},
     "output_type": "execute_result"
    }
   ],
   "source": [
    "from sklearn.tree import DecisionTreeClassifier\n",
    "model = DecisionTreeClassifier()\n",
    "model.fit(train_x, train_y)"
   ]
  },
  {
   "cell_type": "code",
   "execution_count": 6,
   "metadata": {
    "collapsed": true
   },
   "outputs": [],
   "source": [
    "pred_y = model.predict(test_x)"
   ]
  },
  {
   "cell_type": "code",
   "execution_count": 8,
   "metadata": {},
   "outputs": [
    {
     "name": "stdout",
     "output_type": "stream",
     "text": [
      "      Actual  Predicted\n",
      "1084       1          1\n",
      "1151       1          1\n",
      "957        1          1\n",
      "1172       1          1\n",
      "312        0          0\n",
      "643        0          0\n",
      "574        0          0\n",
      "1043       1          1\n",
      "152        0          0\n",
      "1126       1          1\n",
      "1305       1          1\n",
      "402        0          0\n",
      "1045       1          1\n",
      "36         0          0\n",
      "341        0          0\n",
      "911        1          0\n",
      "399        0          0\n",
      "1296       1          1\n",
      "1301       1          1\n",
      "1190       1          1\n",
      "1235       1          1\n",
      "1267       1          1\n",
      "1150       1          1\n",
      "1255       1          1\n",
      "566        0          0\n",
      "387        0          0\n",
      "704        0          0\n",
      "439        0          0\n",
      "471        0          0\n",
      "641        0          0\n",
      "...      ...        ...\n",
      "404        0          0\n",
      "774        1          1\n",
      "281        0          0\n",
      "1095       1          1\n",
      "644        0          0\n",
      "1135       1          1\n",
      "1143       1          1\n",
      "6          0          0\n",
      "778        1          1\n",
      "912        1          1\n",
      "167        0          0\n",
      "202        0          0\n",
      "1091       1          1\n",
      "796        1          1\n",
      "550        0          0\n",
      "1228       1          1\n",
      "1233       1          1\n",
      "855        1          1\n",
      "1310       1          1\n",
      "1025       1          1\n",
      "1252       1          1\n",
      "452        0          0\n",
      "1090       1          1\n",
      "109        0          0\n",
      "626        0          0\n",
      "453        0          0\n",
      "699        0          0\n",
      "1236       1          1\n",
      "929        1          1\n",
      "236        0          0\n",
      "\n",
      "[275 rows x 2 columns]\n"
     ]
    }
   ],
   "source": [
    "result = pd.DataFrame({'Actual': test_y, 'Predicted':pred_y})\n",
    "print(result)"
   ]
  },
  {
   "cell_type": "code",
   "execution_count": 12,
   "metadata": {},
   "outputs": [
    {
     "name": "stdout",
     "output_type": "stream",
     "text": [
      "[[152   2]\n",
      " [  1 120]]\n",
      "             precision    recall  f1-score   support\n",
      "\n",
      "          0       0.99      0.99      0.99       154\n",
      "          1       0.98      0.99      0.99       121\n",
      "\n",
      "avg / total       0.99      0.99      0.99       275\n",
      "\n"
     ]
    }
   ],
   "source": [
    "from sklearn.metrics import confusion_matrix as cm, classification_report as cr\n",
    "print(cm(test_y, pred_y))\n",
    "print(cr(test_y, pred_y))"
   ]
  },
  {
   "cell_type": "code",
   "execution_count": 13,
   "metadata": {},
   "outputs": [
    {
     "name": "stdout",
     "output_type": "stream",
     "text": [
      "   sepal_length  sepal_width  petal_length  petal_width species\n",
      "0           5.1          3.5           1.4          0.2  setosa\n",
      "1           4.9          3.0           1.4          0.2  setosa\n",
      "2           4.7          3.2           1.3          0.2  setosa\n",
      "3           4.6          3.1           1.5          0.2  setosa\n",
      "4           5.0          3.6           1.4          0.2  setosa\n"
     ]
    }
   ],
   "source": [
    "data = sns.load_dataset('iris')\n",
    "print(data.head())"
   ]
  },
  {
   "cell_type": "code",
   "execution_count": 14,
   "metadata": {
    "collapsed": true
   },
   "outputs": [],
   "source": [
    "train, test = tts(data, test_size = 0.2)\n",
    "train_x = train.loc[:, train.columns != 'species']\n",
    "test_x = test.loc[:, test.columns != 'species']\n",
    "\n",
    "train_y = train['species']\n",
    "test_y = test['species']"
   ]
  },
  {
   "cell_type": "code",
   "execution_count": 16,
   "metadata": {},
   "outputs": [
    {
     "data": {
      "text/plain": [
       "RandomForestClassifier(bootstrap=True, class_weight=None, criterion='gini',\n",
       "            max_depth=None, max_features='auto', max_leaf_nodes=None,\n",
       "            min_impurity_decrease=0.0, min_impurity_split=None,\n",
       "            min_samples_leaf=1, min_samples_split=2,\n",
       "            min_weight_fraction_leaf=0.0, n_estimators=10, n_jobs=2,\n",
       "            oob_score=False, random_state=None, verbose=0,\n",
       "            warm_start=False)"
      ]
     },
     "execution_count": 16,
     "metadata": {},
     "output_type": "execute_result"
    }
   ],
   "source": [
    "from sklearn.ensemble import RandomForestClassifier\n",
    "clf = RandomForestClassifier(n_jobs = 2)\n",
    "clf.fit(train_x, train_y)"
   ]
  },
  {
   "cell_type": "code",
   "execution_count": 17,
   "metadata": {
    "collapsed": true
   },
   "outputs": [],
   "source": [
    "pred_y = clf.predict(test_x)"
   ]
  },
  {
   "cell_type": "code",
   "execution_count": 18,
   "metadata": {},
   "outputs": [
    {
     "name": "stdout",
     "output_type": "stream",
     "text": [
      "         Actual   Predicted\n",
      "91   versicolor  versicolor\n",
      "52   versicolor  versicolor\n",
      "61   versicolor  versicolor\n",
      "114   virginica   virginica\n",
      "141   virginica   virginica\n",
      "41       setosa      setosa\n",
      "85   versicolor  versicolor\n",
      "67   versicolor  versicolor\n",
      "56   versicolor  versicolor\n",
      "64   versicolor  versicolor\n",
      "23       setosa      setosa\n",
      "104   virginica   virginica\n",
      "57   versicolor  versicolor\n",
      "17       setosa      setosa\n",
      "108   virginica   virginica\n",
      "42       setosa      setosa\n",
      "147   virginica   virginica\n",
      "118   virginica   virginica\n",
      "84   versicolor  versicolor\n",
      "4        setosa      setosa\n",
      "128   virginica   virginica\n",
      "21       setosa      setosa\n",
      "111   virginica   virginica\n",
      "33       setosa      setosa\n",
      "145   virginica   virginica\n",
      "36       setosa      setosa\n",
      "78   versicolor  versicolor\n",
      "30       setosa      setosa\n",
      "115   virginica   virginica\n",
      "58   versicolor  versicolor\n"
     ]
    }
   ],
   "source": [
    "result = pd.DataFrame({'Actual': test_y, 'Predicted':pred_y})\n",
    "print(result)"
   ]
  },
  {
   "cell_type": "code",
   "execution_count": 19,
   "metadata": {},
   "outputs": [
    {
     "name": "stdout",
     "output_type": "stream",
     "text": [
      "[[ 9  0  0]\n",
      " [ 0 11  0]\n",
      " [ 0  0 10]]\n",
      "             precision    recall  f1-score   support\n",
      "\n",
      "     setosa       1.00      1.00      1.00         9\n",
      " versicolor       1.00      1.00      1.00        11\n",
      "  virginica       1.00      1.00      1.00        10\n",
      "\n",
      "avg / total       1.00      1.00      1.00        30\n",
      "\n"
     ]
    }
   ],
   "source": [
    "from sklearn.metrics import confusion_matrix as cm, classification_report as cr\n",
    "print(cm(test_y, pred_y))\n",
    "print(cr(test_y, pred_y))"
   ]
  },
  {
   "cell_type": "code",
   "execution_count": null,
   "metadata": {
    "collapsed": true
   },
   "outputs": [],
   "source": []
  }
 ],
 "metadata": {
  "kernelspec": {
   "display_name": "Python 3",
   "language": "python",
   "name": "python3"
  },
  "language_info": {
   "codemirror_mode": {
    "name": "ipython",
    "version": 3
   },
   "file_extension": ".py",
   "mimetype": "text/x-python",
   "name": "python",
   "nbconvert_exporter": "python",
   "pygments_lexer": "ipython3",
   "version": "3.6.2"
  }
 },
 "nbformat": 4,
 "nbformat_minor": 2
}
