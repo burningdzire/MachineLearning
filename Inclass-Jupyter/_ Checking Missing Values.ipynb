{
 "cells": [
  {
   "cell_type": "code",
   "execution_count": 2,
   "metadata": {
    "collapsed": true
   },
   "outputs": [],
   "source": [
    "#importing libraries\n",
    "import numpy as np\n",
    "import pandas as pd\n",
    "import matplotlib.pyplot as plt"
   ]
  },
  {
   "cell_type": "code",
   "execution_count": 3,
   "metadata": {},
   "outputs": [
    {
     "name": "stdout",
     "output_type": "stream",
     "text": [
      "  FirstName  LastName   Age  Score\n",
      "0     Lydia  Stephens  36.0    NaN\n",
      "1      Owen    Oliver   NaN   42.0\n",
      "2     Leona   Walters  42.0   79.0\n",
      "3       NaN   Roberts  34.0   61.0\n",
      "4      Cora    Adkins   NaN   82.0\n",
      "5      Lucy       NaN  45.0   77.0\n",
      "6    Gerald      Paul  29.0   78.0\n",
      "7    Lester  Holloway  53.0   77.0\n",
      "8    Helena   Stewart  52.0   94.0\n",
      "9     Adele    Duncan   NaN   16.0\n"
     ]
    }
   ],
   "source": [
    "#Importing csv file into the program using isnull() and notnull() functions\n",
    "df = pd.read_csv('ExampleData.csv')\n",
    "print(df)"
   ]
  },
  {
   "cell_type": "code",
   "execution_count": 4,
   "metadata": {},
   "outputs": [
    {
     "data": {
      "text/plain": [
       "0    False\n",
       "1    False\n",
       "2    False\n",
       "3    False\n",
       "4    False\n",
       "5     True\n",
       "6    False\n",
       "7    False\n",
       "8    False\n",
       "9    False\n",
       "Name: LastName, dtype: bool"
      ]
     },
     "execution_count": 4,
     "metadata": {},
     "output_type": "execute_result"
    }
   ],
   "source": [
    "#Check for Missing Values\n",
    "df['LastName'].isnull()"
   ]
  },
  {
   "cell_type": "code",
   "execution_count": 5,
   "metadata": {},
   "outputs": [
    {
     "name": "stdout",
     "output_type": "stream",
     "text": [
      "Null Values are present in the DataFrame\n"
     ]
    }
   ],
   "source": [
    "checker = df['LastName'].isnull()\n",
    "flag = False\n",
    "for x in checker:\n",
    "    if x == True:\n",
    "        flag = True\n",
    "if(flag == True):\n",
    "    print(\"Null Values are present in the DataFrame\")\n",
    "else:\n",
    "    print(\"Null Values are not present in the DataFrame\")"
   ]
  },
  {
   "cell_type": "code",
   "execution_count": 6,
   "metadata": {},
   "outputs": [
    {
     "name": "stdout",
     "output_type": "stream",
     "text": [
      "291.0\n"
     ]
    }
   ],
   "source": [
    "# Calculations with Missing Data\n",
    "# When summing data, NA will be treated as Zero\n",
    "# If the data are all NA, then the result will be NA\n",
    "print(df['Age'].sum())"
   ]
  },
  {
   "cell_type": "code",
   "execution_count": 7,
   "metadata": {},
   "outputs": [
    {
     "name": "stdout",
     "output_type": "stream",
     "text": [
      "  FirstName  LastName   Age      Score\n",
      "0     Lydia  Stephens  36.0  67.333333\n",
      "1      Owen    Oliver   0.0  42.000000\n",
      "2     Leona   Walters  42.0  79.000000\n",
      "3       NaN   Roberts  34.0  61.000000\n",
      "4      Cora    Adkins   0.0  82.000000\n",
      "5      Lucy       NaN  45.0  77.000000\n",
      "6    Gerald      Paul  29.0  78.000000\n",
      "7    Lester  Holloway  53.0  77.000000\n",
      "8    Helena   Stewart  52.0  94.000000\n",
      "9     Adele    Duncan   0.0  16.000000\n"
     ]
    }
   ],
   "source": [
    "# Cleaning / Filling Missing Data\n",
    "# Pandas provides various methods for cleaning the missing values. \n",
    "# The fillna function can ”fill in” NA values with non-null data in \n",
    "# a couple of ways which we have illustrated in the following sections.\n",
    "\n",
    "#Method 1: Replace NaN with a Scalar Value\n",
    "df['Age'] = df['Age'].fillna(0)\n",
    "\n",
    "#Method 2: Replacing Nan values with the mean of the data\n",
    "df['Score'] = df['Score'].fillna(df['Score'].mean())\n",
    "\n",
    "print(df)"
   ]
  },
  {
   "cell_type": "code",
   "execution_count": 8,
   "metadata": {},
   "outputs": [
    {
     "data": {
      "text/html": [
       "<div>\n",
       "<style>\n",
       "    .dataframe thead tr:only-child th {\n",
       "        text-align: right;\n",
       "    }\n",
       "\n",
       "    .dataframe thead th {\n",
       "        text-align: left;\n",
       "    }\n",
       "\n",
       "    .dataframe tbody tr th {\n",
       "        vertical-align: top;\n",
       "    }\n",
       "</style>\n",
       "<table border=\"1\" class=\"dataframe\">\n",
       "  <thead>\n",
       "    <tr style=\"text-align: right;\">\n",
       "      <th></th>\n",
       "      <th>FirstName</th>\n",
       "      <th>LastName</th>\n",
       "      <th>Age</th>\n",
       "      <th>Score</th>\n",
       "    </tr>\n",
       "  </thead>\n",
       "  <tbody>\n",
       "    <tr>\n",
       "      <th>0</th>\n",
       "      <td>Lydia</td>\n",
       "      <td>Stephens</td>\n",
       "      <td>36.0</td>\n",
       "      <td>67.333333</td>\n",
       "    </tr>\n",
       "    <tr>\n",
       "      <th>1</th>\n",
       "      <td>Owen</td>\n",
       "      <td>Oliver</td>\n",
       "      <td>0.0</td>\n",
       "      <td>42.000000</td>\n",
       "    </tr>\n",
       "    <tr>\n",
       "      <th>2</th>\n",
       "      <td>Leona</td>\n",
       "      <td>Walters</td>\n",
       "      <td>42.0</td>\n",
       "      <td>79.000000</td>\n",
       "    </tr>\n",
       "    <tr>\n",
       "      <th>4</th>\n",
       "      <td>Cora</td>\n",
       "      <td>Adkins</td>\n",
       "      <td>0.0</td>\n",
       "      <td>82.000000</td>\n",
       "    </tr>\n",
       "    <tr>\n",
       "      <th>6</th>\n",
       "      <td>Gerald</td>\n",
       "      <td>Paul</td>\n",
       "      <td>29.0</td>\n",
       "      <td>78.000000</td>\n",
       "    </tr>\n",
       "    <tr>\n",
       "      <th>7</th>\n",
       "      <td>Lester</td>\n",
       "      <td>Holloway</td>\n",
       "      <td>53.0</td>\n",
       "      <td>77.000000</td>\n",
       "    </tr>\n",
       "    <tr>\n",
       "      <th>8</th>\n",
       "      <td>Helena</td>\n",
       "      <td>Stewart</td>\n",
       "      <td>52.0</td>\n",
       "      <td>94.000000</td>\n",
       "    </tr>\n",
       "    <tr>\n",
       "      <th>9</th>\n",
       "      <td>Adele</td>\n",
       "      <td>Duncan</td>\n",
       "      <td>0.0</td>\n",
       "      <td>16.000000</td>\n",
       "    </tr>\n",
       "  </tbody>\n",
       "</table>\n",
       "</div>"
      ],
      "text/plain": [
       "  FirstName  LastName   Age      Score\n",
       "0     Lydia  Stephens  36.0  67.333333\n",
       "1      Owen    Oliver   0.0  42.000000\n",
       "2     Leona   Walters  42.0  79.000000\n",
       "4      Cora    Adkins   0.0  82.000000\n",
       "6    Gerald      Paul  29.0  78.000000\n",
       "7    Lester  Holloway  53.0  77.000000\n",
       "8    Helena   Stewart  52.0  94.000000\n",
       "9     Adele    Duncan   0.0  16.000000"
      ]
     },
     "execution_count": 8,
     "metadata": {},
     "output_type": "execute_result"
    }
   ],
   "source": [
    "# Drop Missing Values\n",
    "# If you want to simply exclude the missing values, \n",
    "# then use the dropna function along with the axis argument. \n",
    "# By default, axis=0, i.e., along row, \n",
    "# which means that if any value within a row is NA then the whole row is excluded.\n",
    "\n",
    "df.dropna(axis = 0)"
   ]
  },
  {
   "cell_type": "code",
   "execution_count": null,
   "metadata": {
    "collapsed": true
   },
   "outputs": [],
   "source": []
  }
 ],
 "metadata": {
  "kernelspec": {
   "display_name": "Python 3",
   "language": "python",
   "name": "python3"
  },
  "language_info": {
   "codemirror_mode": {
    "name": "ipython",
    "version": 3
   },
   "file_extension": ".py",
   "mimetype": "text/x-python",
   "name": "python",
   "nbconvert_exporter": "python",
   "pygments_lexer": "ipython3",
   "version": "3.6.2"
  }
 },
 "nbformat": 4,
 "nbformat_minor": 2
}
